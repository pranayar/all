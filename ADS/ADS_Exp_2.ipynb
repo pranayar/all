{
  "cells": [
    {
      "cell_type": "code",
      "execution_count": 1,
      "metadata": {
        "id": "3MY894l-F70c"
      },
      "outputs": [],
      "source": [
        "# https://openmv.net/info/travel-times\n",
        "\n",
        "import numpy as np \n",
        "import pandas as pd\n",
        "import matplotlib.pyplot as plt\n",
        "import seaborn as sns"
      ]
    },
    {
      "cell_type": "code",
      "execution_count": 2,
      "metadata": {
        "colab": {
          "base_uri": "https://localhost:8080/",
          "height": 427
        },
        "id": "mloUQhq0GZS6",
        "outputId": "940cd3c0-b0d1-4b93-c4cc-8f53ebb16743"
      },
      "outputs": [
        {
          "data": {
            "text/html": [
              "<div>\n",
              "<style scoped>\n",
              "    .dataframe tbody tr th:only-of-type {\n",
              "        vertical-align: middle;\n",
              "    }\n",
              "\n",
              "    .dataframe tbody tr th {\n",
              "        vertical-align: top;\n",
              "    }\n",
              "\n",
              "    .dataframe thead th {\n",
              "        text-align: right;\n",
              "    }\n",
              "</style>\n",
              "<table border=\"1\" class=\"dataframe\">\n",
              "  <thead>\n",
              "    <tr style=\"text-align: right;\">\n",
              "      <th></th>\n",
              "      <th>Date</th>\n",
              "      <th>StartTime</th>\n",
              "      <th>DayOfWeek</th>\n",
              "      <th>GoingTo</th>\n",
              "      <th>Distance</th>\n",
              "      <th>MaxSpeed</th>\n",
              "      <th>AvgSpeed</th>\n",
              "      <th>AvgMovingSpeed</th>\n",
              "      <th>FuelEconomy</th>\n",
              "      <th>TotalTime</th>\n",
              "      <th>MovingTime</th>\n",
              "      <th>Take407All</th>\n",
              "      <th>Comments</th>\n",
              "    </tr>\n",
              "  </thead>\n",
              "  <tbody>\n",
              "    <tr>\n",
              "      <th>0</th>\n",
              "      <td>1/6/2012</td>\n",
              "      <td>16:37</td>\n",
              "      <td>Friday</td>\n",
              "      <td>Home</td>\n",
              "      <td>51.29</td>\n",
              "      <td>127.4</td>\n",
              "      <td>78.3</td>\n",
              "      <td>84.8</td>\n",
              "      <td>NaN</td>\n",
              "      <td>39.3</td>\n",
              "      <td>36.3</td>\n",
              "      <td>No</td>\n",
              "      <td>NaN</td>\n",
              "    </tr>\n",
              "    <tr>\n",
              "      <th>1</th>\n",
              "      <td>1/6/2012</td>\n",
              "      <td>08:20</td>\n",
              "      <td>Friday</td>\n",
              "      <td>GSK</td>\n",
              "      <td>51.63</td>\n",
              "      <td>130.3</td>\n",
              "      <td>81.8</td>\n",
              "      <td>88.9</td>\n",
              "      <td>NaN</td>\n",
              "      <td>37.9</td>\n",
              "      <td>34.9</td>\n",
              "      <td>No</td>\n",
              "      <td>NaN</td>\n",
              "    </tr>\n",
              "    <tr>\n",
              "      <th>2</th>\n",
              "      <td>1/4/2012</td>\n",
              "      <td>16:17</td>\n",
              "      <td>Wednesday</td>\n",
              "      <td>Home</td>\n",
              "      <td>51.27</td>\n",
              "      <td>127.4</td>\n",
              "      <td>82.0</td>\n",
              "      <td>85.8</td>\n",
              "      <td>NaN</td>\n",
              "      <td>37.5</td>\n",
              "      <td>35.9</td>\n",
              "      <td>No</td>\n",
              "      <td>NaN</td>\n",
              "    </tr>\n",
              "    <tr>\n",
              "      <th>3</th>\n",
              "      <td>1/4/2012</td>\n",
              "      <td>07:53</td>\n",
              "      <td>Wednesday</td>\n",
              "      <td>GSK</td>\n",
              "      <td>49.17</td>\n",
              "      <td>132.3</td>\n",
              "      <td>74.2</td>\n",
              "      <td>82.9</td>\n",
              "      <td>NaN</td>\n",
              "      <td>39.8</td>\n",
              "      <td>35.6</td>\n",
              "      <td>No</td>\n",
              "      <td>NaN</td>\n",
              "    </tr>\n",
              "    <tr>\n",
              "      <th>4</th>\n",
              "      <td>1/3/2012</td>\n",
              "      <td>18:57</td>\n",
              "      <td>Tuesday</td>\n",
              "      <td>Home</td>\n",
              "      <td>51.15</td>\n",
              "      <td>136.2</td>\n",
              "      <td>83.4</td>\n",
              "      <td>88.1</td>\n",
              "      <td>NaN</td>\n",
              "      <td>36.8</td>\n",
              "      <td>34.8</td>\n",
              "      <td>No</td>\n",
              "      <td>NaN</td>\n",
              "    </tr>\n",
              "    <tr>\n",
              "      <th>5</th>\n",
              "      <td>1/3/2012</td>\n",
              "      <td>07:57</td>\n",
              "      <td>Tuesday</td>\n",
              "      <td>GSK</td>\n",
              "      <td>51.80</td>\n",
              "      <td>135.8</td>\n",
              "      <td>84.5</td>\n",
              "      <td>88.8</td>\n",
              "      <td>NaN</td>\n",
              "      <td>36.8</td>\n",
              "      <td>35.0</td>\n",
              "      <td>No</td>\n",
              "      <td>NaN</td>\n",
              "    </tr>\n",
              "    <tr>\n",
              "      <th>6</th>\n",
              "      <td>1/2/2012</td>\n",
              "      <td>17:31</td>\n",
              "      <td>Monday</td>\n",
              "      <td>Home</td>\n",
              "      <td>51.37</td>\n",
              "      <td>123.2</td>\n",
              "      <td>82.9</td>\n",
              "      <td>87.3</td>\n",
              "      <td>-</td>\n",
              "      <td>37.2</td>\n",
              "      <td>35.3</td>\n",
              "      <td>No</td>\n",
              "      <td>NaN</td>\n",
              "    </tr>\n",
              "    <tr>\n",
              "      <th>7</th>\n",
              "      <td>1/2/2012</td>\n",
              "      <td>07:34</td>\n",
              "      <td>Monday</td>\n",
              "      <td>GSK</td>\n",
              "      <td>49.01</td>\n",
              "      <td>128.3</td>\n",
              "      <td>77.5</td>\n",
              "      <td>85.9</td>\n",
              "      <td>-</td>\n",
              "      <td>37.9</td>\n",
              "      <td>34.3</td>\n",
              "      <td>No</td>\n",
              "      <td>NaN</td>\n",
              "    </tr>\n",
              "    <tr>\n",
              "      <th>8</th>\n",
              "      <td>12/23/2011</td>\n",
              "      <td>08:01</td>\n",
              "      <td>Friday</td>\n",
              "      <td>GSK</td>\n",
              "      <td>52.91</td>\n",
              "      <td>130.3</td>\n",
              "      <td>80.9</td>\n",
              "      <td>88.3</td>\n",
              "      <td>8.89</td>\n",
              "      <td>39.3</td>\n",
              "      <td>36.0</td>\n",
              "      <td>No</td>\n",
              "      <td>NaN</td>\n",
              "    </tr>\n",
              "    <tr>\n",
              "      <th>9</th>\n",
              "      <td>12/22/2011</td>\n",
              "      <td>17:19</td>\n",
              "      <td>Thursday</td>\n",
              "      <td>Home</td>\n",
              "      <td>51.17</td>\n",
              "      <td>122.3</td>\n",
              "      <td>70.6</td>\n",
              "      <td>78.1</td>\n",
              "      <td>8.89</td>\n",
              "      <td>43.5</td>\n",
              "      <td>39.3</td>\n",
              "      <td>No</td>\n",
              "      <td>NaN</td>\n",
              "    </tr>\n",
              "  </tbody>\n",
              "</table>\n",
              "</div>"
            ],
            "text/plain": [
              "         Date StartTime  DayOfWeek GoingTo  Distance  MaxSpeed  AvgSpeed  \\\n",
              "0    1/6/2012     16:37     Friday    Home     51.29     127.4      78.3   \n",
              "1    1/6/2012     08:20     Friday     GSK     51.63     130.3      81.8   \n",
              "2    1/4/2012     16:17  Wednesday    Home     51.27     127.4      82.0   \n",
              "3    1/4/2012     07:53  Wednesday     GSK     49.17     132.3      74.2   \n",
              "4    1/3/2012     18:57    Tuesday    Home     51.15     136.2      83.4   \n",
              "5    1/3/2012     07:57    Tuesday     GSK     51.80     135.8      84.5   \n",
              "6    1/2/2012     17:31     Monday    Home     51.37     123.2      82.9   \n",
              "7    1/2/2012     07:34     Monday     GSK     49.01     128.3      77.5   \n",
              "8  12/23/2011     08:01     Friday     GSK     52.91     130.3      80.9   \n",
              "9  12/22/2011     17:19   Thursday    Home     51.17     122.3      70.6   \n",
              "\n",
              "   AvgMovingSpeed FuelEconomy  TotalTime  MovingTime Take407All Comments  \n",
              "0            84.8         NaN       39.3        36.3         No      NaN  \n",
              "1            88.9         NaN       37.9        34.9         No      NaN  \n",
              "2            85.8         NaN       37.5        35.9         No      NaN  \n",
              "3            82.9         NaN       39.8        35.6         No      NaN  \n",
              "4            88.1         NaN       36.8        34.8         No      NaN  \n",
              "5            88.8         NaN       36.8        35.0         No      NaN  \n",
              "6            87.3           -       37.2        35.3         No      NaN  \n",
              "7            85.9           -       37.9        34.3         No      NaN  \n",
              "8            88.3        8.89       39.3        36.0         No      NaN  \n",
              "9            78.1        8.89       43.5        39.3         No      NaN  "
            ]
          },
          "execution_count": 2,
          "metadata": {},
          "output_type": "execute_result"
        }
      ],
      "source": [
        "df = pd.read_csv('./travel-times.csv')\n",
        "df.head(10)"
      ]
    },
    {
      "cell_type": "code",
      "execution_count": 24,
      "metadata": {
        "id": "aqAPluE1jF8p"
      },
      "outputs": [
        {
          "data": {
            "text/html": [
              "<div>\n",
              "<style scoped>\n",
              "    .dataframe tbody tr th:only-of-type {\n",
              "        vertical-align: middle;\n",
              "    }\n",
              "\n",
              "    .dataframe tbody tr th {\n",
              "        vertical-align: top;\n",
              "    }\n",
              "\n",
              "    .dataframe thead th {\n",
              "        text-align: right;\n",
              "    }\n",
              "</style>\n",
              "<table border=\"1\" class=\"dataframe\">\n",
              "  <thead>\n",
              "    <tr style=\"text-align: right;\">\n",
              "      <th></th>\n",
              "      <th>Date</th>\n",
              "      <th>StartTime</th>\n",
              "      <th>DayOfWeek</th>\n",
              "      <th>GoingTo</th>\n",
              "      <th>Distance</th>\n",
              "      <th>MaxSpeed</th>\n",
              "      <th>AvgSpeed</th>\n",
              "      <th>AvgMovingSpeed</th>\n",
              "      <th>FuelEconomy</th>\n",
              "      <th>TotalTime</th>\n",
              "      <th>MovingTime</th>\n",
              "      <th>Take407All</th>\n",
              "      <th>Comments</th>\n",
              "    </tr>\n",
              "  </thead>\n",
              "  <tbody>\n",
              "    <tr>\n",
              "      <th>0</th>\n",
              "      <td>1/6/2012</td>\n",
              "      <td>16:37</td>\n",
              "      <td>Friday</td>\n",
              "      <td>Home</td>\n",
              "      <td>51.29</td>\n",
              "      <td>127.4</td>\n",
              "      <td>78.3</td>\n",
              "      <td>84.8</td>\n",
              "      <td>NaN</td>\n",
              "      <td>39.3</td>\n",
              "      <td>36.3</td>\n",
              "      <td>No</td>\n",
              "      <td>NaN</td>\n",
              "    </tr>\n",
              "    <tr>\n",
              "      <th>1</th>\n",
              "      <td>1/6/2012</td>\n",
              "      <td>08:20</td>\n",
              "      <td>Friday</td>\n",
              "      <td>GSK</td>\n",
              "      <td>51.63</td>\n",
              "      <td>130.3</td>\n",
              "      <td>81.8</td>\n",
              "      <td>88.9</td>\n",
              "      <td>NaN</td>\n",
              "      <td>37.9</td>\n",
              "      <td>34.9</td>\n",
              "      <td>No</td>\n",
              "      <td>NaN</td>\n",
              "    </tr>\n",
              "    <tr>\n",
              "      <th>2</th>\n",
              "      <td>1/4/2012</td>\n",
              "      <td>16:17</td>\n",
              "      <td>Wednesday</td>\n",
              "      <td>Home</td>\n",
              "      <td>51.27</td>\n",
              "      <td>127.4</td>\n",
              "      <td>82.0</td>\n",
              "      <td>85.8</td>\n",
              "      <td>NaN</td>\n",
              "      <td>37.5</td>\n",
              "      <td>35.9</td>\n",
              "      <td>No</td>\n",
              "      <td>NaN</td>\n",
              "    </tr>\n",
              "    <tr>\n",
              "      <th>3</th>\n",
              "      <td>1/4/2012</td>\n",
              "      <td>07:53</td>\n",
              "      <td>Wednesday</td>\n",
              "      <td>GSK</td>\n",
              "      <td>49.17</td>\n",
              "      <td>132.3</td>\n",
              "      <td>74.2</td>\n",
              "      <td>82.9</td>\n",
              "      <td>NaN</td>\n",
              "      <td>39.8</td>\n",
              "      <td>35.6</td>\n",
              "      <td>No</td>\n",
              "      <td>NaN</td>\n",
              "    </tr>\n",
              "    <tr>\n",
              "      <th>4</th>\n",
              "      <td>1/3/2012</td>\n",
              "      <td>18:57</td>\n",
              "      <td>Tuesday</td>\n",
              "      <td>Home</td>\n",
              "      <td>51.15</td>\n",
              "      <td>136.2</td>\n",
              "      <td>83.4</td>\n",
              "      <td>88.1</td>\n",
              "      <td>NaN</td>\n",
              "      <td>36.8</td>\n",
              "      <td>34.8</td>\n",
              "      <td>No</td>\n",
              "      <td>NaN</td>\n",
              "    </tr>\n",
              "    <tr>\n",
              "      <th>5</th>\n",
              "      <td>1/3/2012</td>\n",
              "      <td>07:57</td>\n",
              "      <td>Tuesday</td>\n",
              "      <td>GSK</td>\n",
              "      <td>51.80</td>\n",
              "      <td>135.8</td>\n",
              "      <td>84.5</td>\n",
              "      <td>88.8</td>\n",
              "      <td>NaN</td>\n",
              "      <td>36.8</td>\n",
              "      <td>35.0</td>\n",
              "      <td>No</td>\n",
              "      <td>NaN</td>\n",
              "    </tr>\n",
              "    <tr>\n",
              "      <th>8</th>\n",
              "      <td>12/23/2011</td>\n",
              "      <td>08:01</td>\n",
              "      <td>Friday</td>\n",
              "      <td>GSK</td>\n",
              "      <td>52.91</td>\n",
              "      <td>130.3</td>\n",
              "      <td>80.9</td>\n",
              "      <td>88.3</td>\n",
              "      <td>8.89</td>\n",
              "      <td>39.3</td>\n",
              "      <td>36.0</td>\n",
              "      <td>No</td>\n",
              "      <td>NaN</td>\n",
              "    </tr>\n",
              "    <tr>\n",
              "      <th>9</th>\n",
              "      <td>12/22/2011</td>\n",
              "      <td>17:19</td>\n",
              "      <td>Thursday</td>\n",
              "      <td>Home</td>\n",
              "      <td>51.17</td>\n",
              "      <td>122.3</td>\n",
              "      <td>70.6</td>\n",
              "      <td>78.1</td>\n",
              "      <td>8.89</td>\n",
              "      <td>43.5</td>\n",
              "      <td>39.3</td>\n",
              "      <td>No</td>\n",
              "      <td>NaN</td>\n",
              "    </tr>\n",
              "    <tr>\n",
              "      <th>10</th>\n",
              "      <td>12/22/2011</td>\n",
              "      <td>08:16</td>\n",
              "      <td>Thursday</td>\n",
              "      <td>GSK</td>\n",
              "      <td>49.15</td>\n",
              "      <td>129.4</td>\n",
              "      <td>74.0</td>\n",
              "      <td>81.4</td>\n",
              "      <td>8.89</td>\n",
              "      <td>39.8</td>\n",
              "      <td>36.2</td>\n",
              "      <td>No</td>\n",
              "      <td>NaN</td>\n",
              "    </tr>\n",
              "    <tr>\n",
              "      <th>11</th>\n",
              "      <td>12/21/2011</td>\n",
              "      <td>07:45</td>\n",
              "      <td>Wednesday</td>\n",
              "      <td>GSK</td>\n",
              "      <td>51.77</td>\n",
              "      <td>124.8</td>\n",
              "      <td>71.7</td>\n",
              "      <td>78.9</td>\n",
              "      <td>8.89</td>\n",
              "      <td>43.3</td>\n",
              "      <td>39.4</td>\n",
              "      <td>No</td>\n",
              "      <td>NaN</td>\n",
              "    </tr>\n",
              "  </tbody>\n",
              "</table>\n",
              "</div>"
            ],
            "text/plain": [
              "          Date StartTime  DayOfWeek GoingTo  Distance  MaxSpeed  AvgSpeed  \\\n",
              "0     1/6/2012     16:37     Friday    Home     51.29     127.4      78.3   \n",
              "1     1/6/2012     08:20     Friday     GSK     51.63     130.3      81.8   \n",
              "2     1/4/2012     16:17  Wednesday    Home     51.27     127.4      82.0   \n",
              "3     1/4/2012     07:53  Wednesday     GSK     49.17     132.3      74.2   \n",
              "4     1/3/2012     18:57    Tuesday    Home     51.15     136.2      83.4   \n",
              "5     1/3/2012     07:57    Tuesday     GSK     51.80     135.8      84.5   \n",
              "8   12/23/2011     08:01     Friday     GSK     52.91     130.3      80.9   \n",
              "9   12/22/2011     17:19   Thursday    Home     51.17     122.3      70.6   \n",
              "10  12/22/2011     08:16   Thursday     GSK     49.15     129.4      74.0   \n",
              "11  12/21/2011     07:45  Wednesday     GSK     51.77     124.8      71.7   \n",
              "\n",
              "    AvgMovingSpeed FuelEconomy  TotalTime  MovingTime Take407All Comments  \n",
              "0             84.8         NaN       39.3        36.3         No      NaN  \n",
              "1             88.9         NaN       37.9        34.9         No      NaN  \n",
              "2             85.8         NaN       37.5        35.9         No      NaN  \n",
              "3             82.9         NaN       39.8        35.6         No      NaN  \n",
              "4             88.1         NaN       36.8        34.8         No      NaN  \n",
              "5             88.8         NaN       36.8        35.0         No      NaN  \n",
              "8             88.3        8.89       39.3        36.0         No      NaN  \n",
              "9             78.1        8.89       43.5        39.3         No      NaN  \n",
              "10            81.4        8.89       39.8        36.2         No      NaN  \n",
              "11            78.9        8.89       43.3        39.4         No      NaN  "
            ]
          },
          "execution_count": 24,
          "metadata": {},
          "output_type": "execute_result"
        }
      ],
      "source": [
        "df = df[df['FuelEconomy'] != '-']\n",
        "df.head(10)"
      ]
    },
    {
      "cell_type": "code",
      "execution_count": 4,
      "metadata": {
        "colab": {
          "base_uri": "https://localhost:8080/",
          "height": 427
        },
        "id": "Owfe1x6BjPV4",
        "outputId": "49bb6576-0bf9-48e1-be5d-15530dec93a7"
      },
      "outputs": [
        {
          "data": {
            "text/html": [
              "<div>\n",
              "<style scoped>\n",
              "    .dataframe tbody tr th:only-of-type {\n",
              "        vertical-align: middle;\n",
              "    }\n",
              "\n",
              "    .dataframe tbody tr th {\n",
              "        vertical-align: top;\n",
              "    }\n",
              "\n",
              "    .dataframe thead th {\n",
              "        text-align: right;\n",
              "    }\n",
              "</style>\n",
              "<table border=\"1\" class=\"dataframe\">\n",
              "  <thead>\n",
              "    <tr style=\"text-align: right;\">\n",
              "      <th></th>\n",
              "      <th>Date</th>\n",
              "      <th>StartTime</th>\n",
              "      <th>DayOfWeek</th>\n",
              "      <th>GoingTo</th>\n",
              "      <th>Distance</th>\n",
              "      <th>MaxSpeed</th>\n",
              "      <th>AvgSpeed</th>\n",
              "      <th>AvgMovingSpeed</th>\n",
              "      <th>FuelEconomy</th>\n",
              "      <th>TotalTime</th>\n",
              "      <th>MovingTime</th>\n",
              "      <th>Take407All</th>\n",
              "      <th>Comments</th>\n",
              "    </tr>\n",
              "  </thead>\n",
              "  <tbody>\n",
              "    <tr>\n",
              "      <th>0</th>\n",
              "      <td>1/6/2012</td>\n",
              "      <td>16:37</td>\n",
              "      <td>Friday</td>\n",
              "      <td>Home</td>\n",
              "      <td>51.29</td>\n",
              "      <td>127.4</td>\n",
              "      <td>78.3</td>\n",
              "      <td>84.8</td>\n",
              "      <td>NaN</td>\n",
              "      <td>39.3</td>\n",
              "      <td>36.3</td>\n",
              "      <td>No</td>\n",
              "      <td>NaN</td>\n",
              "    </tr>\n",
              "    <tr>\n",
              "      <th>1</th>\n",
              "      <td>1/6/2012</td>\n",
              "      <td>08:20</td>\n",
              "      <td>Friday</td>\n",
              "      <td>GSK</td>\n",
              "      <td>51.63</td>\n",
              "      <td>130.3</td>\n",
              "      <td>81.8</td>\n",
              "      <td>88.9</td>\n",
              "      <td>NaN</td>\n",
              "      <td>37.9</td>\n",
              "      <td>34.9</td>\n",
              "      <td>No</td>\n",
              "      <td>NaN</td>\n",
              "    </tr>\n",
              "    <tr>\n",
              "      <th>2</th>\n",
              "      <td>1/4/2012</td>\n",
              "      <td>16:17</td>\n",
              "      <td>Wednesday</td>\n",
              "      <td>Home</td>\n",
              "      <td>51.27</td>\n",
              "      <td>127.4</td>\n",
              "      <td>82.0</td>\n",
              "      <td>85.8</td>\n",
              "      <td>NaN</td>\n",
              "      <td>37.5</td>\n",
              "      <td>35.9</td>\n",
              "      <td>No</td>\n",
              "      <td>NaN</td>\n",
              "    </tr>\n",
              "    <tr>\n",
              "      <th>3</th>\n",
              "      <td>1/4/2012</td>\n",
              "      <td>07:53</td>\n",
              "      <td>Wednesday</td>\n",
              "      <td>GSK</td>\n",
              "      <td>49.17</td>\n",
              "      <td>132.3</td>\n",
              "      <td>74.2</td>\n",
              "      <td>82.9</td>\n",
              "      <td>NaN</td>\n",
              "      <td>39.8</td>\n",
              "      <td>35.6</td>\n",
              "      <td>No</td>\n",
              "      <td>NaN</td>\n",
              "    </tr>\n",
              "    <tr>\n",
              "      <th>4</th>\n",
              "      <td>1/3/2012</td>\n",
              "      <td>18:57</td>\n",
              "      <td>Tuesday</td>\n",
              "      <td>Home</td>\n",
              "      <td>51.15</td>\n",
              "      <td>136.2</td>\n",
              "      <td>83.4</td>\n",
              "      <td>88.1</td>\n",
              "      <td>NaN</td>\n",
              "      <td>36.8</td>\n",
              "      <td>34.8</td>\n",
              "      <td>No</td>\n",
              "      <td>NaN</td>\n",
              "    </tr>\n",
              "    <tr>\n",
              "      <th>5</th>\n",
              "      <td>1/3/2012</td>\n",
              "      <td>07:57</td>\n",
              "      <td>Tuesday</td>\n",
              "      <td>GSK</td>\n",
              "      <td>51.80</td>\n",
              "      <td>135.8</td>\n",
              "      <td>84.5</td>\n",
              "      <td>88.8</td>\n",
              "      <td>NaN</td>\n",
              "      <td>36.8</td>\n",
              "      <td>35.0</td>\n",
              "      <td>No</td>\n",
              "      <td>NaN</td>\n",
              "    </tr>\n",
              "    <tr>\n",
              "      <th>8</th>\n",
              "      <td>12/23/2011</td>\n",
              "      <td>08:01</td>\n",
              "      <td>Friday</td>\n",
              "      <td>GSK</td>\n",
              "      <td>52.91</td>\n",
              "      <td>130.3</td>\n",
              "      <td>80.9</td>\n",
              "      <td>88.3</td>\n",
              "      <td>8.89</td>\n",
              "      <td>39.3</td>\n",
              "      <td>36.0</td>\n",
              "      <td>No</td>\n",
              "      <td>NaN</td>\n",
              "    </tr>\n",
              "    <tr>\n",
              "      <th>9</th>\n",
              "      <td>12/22/2011</td>\n",
              "      <td>17:19</td>\n",
              "      <td>Thursday</td>\n",
              "      <td>Home</td>\n",
              "      <td>51.17</td>\n",
              "      <td>122.3</td>\n",
              "      <td>70.6</td>\n",
              "      <td>78.1</td>\n",
              "      <td>8.89</td>\n",
              "      <td>43.5</td>\n",
              "      <td>39.3</td>\n",
              "      <td>No</td>\n",
              "      <td>NaN</td>\n",
              "    </tr>\n",
              "    <tr>\n",
              "      <th>10</th>\n",
              "      <td>12/22/2011</td>\n",
              "      <td>08:16</td>\n",
              "      <td>Thursday</td>\n",
              "      <td>GSK</td>\n",
              "      <td>49.15</td>\n",
              "      <td>129.4</td>\n",
              "      <td>74.0</td>\n",
              "      <td>81.4</td>\n",
              "      <td>8.89</td>\n",
              "      <td>39.8</td>\n",
              "      <td>36.2</td>\n",
              "      <td>No</td>\n",
              "      <td>NaN</td>\n",
              "    </tr>\n",
              "    <tr>\n",
              "      <th>11</th>\n",
              "      <td>12/21/2011</td>\n",
              "      <td>07:45</td>\n",
              "      <td>Wednesday</td>\n",
              "      <td>GSK</td>\n",
              "      <td>51.77</td>\n",
              "      <td>124.8</td>\n",
              "      <td>71.7</td>\n",
              "      <td>78.9</td>\n",
              "      <td>8.89</td>\n",
              "      <td>43.3</td>\n",
              "      <td>39.4</td>\n",
              "      <td>No</td>\n",
              "      <td>NaN</td>\n",
              "    </tr>\n",
              "  </tbody>\n",
              "</table>\n",
              "</div>"
            ],
            "text/plain": [
              "          Date StartTime  DayOfWeek GoingTo  Distance  MaxSpeed  AvgSpeed  \\\n",
              "0     1/6/2012     16:37     Friday    Home     51.29     127.4      78.3   \n",
              "1     1/6/2012     08:20     Friday     GSK     51.63     130.3      81.8   \n",
              "2     1/4/2012     16:17  Wednesday    Home     51.27     127.4      82.0   \n",
              "3     1/4/2012     07:53  Wednesday     GSK     49.17     132.3      74.2   \n",
              "4     1/3/2012     18:57    Tuesday    Home     51.15     136.2      83.4   \n",
              "5     1/3/2012     07:57    Tuesday     GSK     51.80     135.8      84.5   \n",
              "8   12/23/2011     08:01     Friday     GSK     52.91     130.3      80.9   \n",
              "9   12/22/2011     17:19   Thursday    Home     51.17     122.3      70.6   \n",
              "10  12/22/2011     08:16   Thursday     GSK     49.15     129.4      74.0   \n",
              "11  12/21/2011     07:45  Wednesday     GSK     51.77     124.8      71.7   \n",
              "\n",
              "    AvgMovingSpeed FuelEconomy  TotalTime  MovingTime Take407All Comments  \n",
              "0             84.8         NaN       39.3        36.3         No      NaN  \n",
              "1             88.9         NaN       37.9        34.9         No      NaN  \n",
              "2             85.8         NaN       37.5        35.9         No      NaN  \n",
              "3             82.9         NaN       39.8        35.6         No      NaN  \n",
              "4             88.1         NaN       36.8        34.8         No      NaN  \n",
              "5             88.8         NaN       36.8        35.0         No      NaN  \n",
              "8             88.3        8.89       39.3        36.0         No      NaN  \n",
              "9             78.1        8.89       43.5        39.3         No      NaN  \n",
              "10            81.4        8.89       39.8        36.2         No      NaN  \n",
              "11            78.9        8.89       43.3        39.4         No      NaN  "
            ]
          },
          "execution_count": 4,
          "metadata": {},
          "output_type": "execute_result"
        }
      ],
      "source": [
        "df.head(10)"
      ]
    },
    {
      "cell_type": "code",
      "execution_count": 5,
      "metadata": {
        "colab": {
          "base_uri": "https://localhost:8080/",
          "height": 488
        },
        "id": "_MzxPPCOTtu1",
        "outputId": "da543ea7-13bc-44e8-9dc7-d63a11f50511"
      },
      "outputs": [
        {
          "data": {
            "text/html": [
              "<div>\n",
              "<style scoped>\n",
              "    .dataframe tbody tr th:only-of-type {\n",
              "        vertical-align: middle;\n",
              "    }\n",
              "\n",
              "    .dataframe tbody tr th {\n",
              "        vertical-align: top;\n",
              "    }\n",
              "\n",
              "    .dataframe thead th {\n",
              "        text-align: right;\n",
              "    }\n",
              "</style>\n",
              "<table border=\"1\" class=\"dataframe\">\n",
              "  <thead>\n",
              "    <tr style=\"text-align: right;\">\n",
              "      <th></th>\n",
              "      <th>DayOfWeek</th>\n",
              "      <th>GoingTo</th>\n",
              "      <th>Distance</th>\n",
              "      <th>MaxSpeed</th>\n",
              "      <th>AvgSpeed</th>\n",
              "      <th>AvgMovingSpeed</th>\n",
              "      <th>FuelEconomy</th>\n",
              "      <th>TotalTime</th>\n",
              "      <th>MovingTime</th>\n",
              "      <th>Take407All</th>\n",
              "      <th>Comments</th>\n",
              "    </tr>\n",
              "  </thead>\n",
              "  <tbody>\n",
              "    <tr>\n",
              "      <th>0</th>\n",
              "      <td>Friday</td>\n",
              "      <td>Home</td>\n",
              "      <td>51.29</td>\n",
              "      <td>127.4</td>\n",
              "      <td>78.3</td>\n",
              "      <td>84.8</td>\n",
              "      <td>NaN</td>\n",
              "      <td>39.3</td>\n",
              "      <td>36.3</td>\n",
              "      <td>No</td>\n",
              "      <td>NaN</td>\n",
              "    </tr>\n",
              "    <tr>\n",
              "      <th>1</th>\n",
              "      <td>Friday</td>\n",
              "      <td>GSK</td>\n",
              "      <td>51.63</td>\n",
              "      <td>130.3</td>\n",
              "      <td>81.8</td>\n",
              "      <td>88.9</td>\n",
              "      <td>NaN</td>\n",
              "      <td>37.9</td>\n",
              "      <td>34.9</td>\n",
              "      <td>No</td>\n",
              "      <td>NaN</td>\n",
              "    </tr>\n",
              "    <tr>\n",
              "      <th>2</th>\n",
              "      <td>Wednesday</td>\n",
              "      <td>Home</td>\n",
              "      <td>51.27</td>\n",
              "      <td>127.4</td>\n",
              "      <td>82.0</td>\n",
              "      <td>85.8</td>\n",
              "      <td>NaN</td>\n",
              "      <td>37.5</td>\n",
              "      <td>35.9</td>\n",
              "      <td>No</td>\n",
              "      <td>NaN</td>\n",
              "    </tr>\n",
              "    <tr>\n",
              "      <th>3</th>\n",
              "      <td>Wednesday</td>\n",
              "      <td>GSK</td>\n",
              "      <td>49.17</td>\n",
              "      <td>132.3</td>\n",
              "      <td>74.2</td>\n",
              "      <td>82.9</td>\n",
              "      <td>NaN</td>\n",
              "      <td>39.8</td>\n",
              "      <td>35.6</td>\n",
              "      <td>No</td>\n",
              "      <td>NaN</td>\n",
              "    </tr>\n",
              "    <tr>\n",
              "      <th>4</th>\n",
              "      <td>Tuesday</td>\n",
              "      <td>Home</td>\n",
              "      <td>51.15</td>\n",
              "      <td>136.2</td>\n",
              "      <td>83.4</td>\n",
              "      <td>88.1</td>\n",
              "      <td>NaN</td>\n",
              "      <td>36.8</td>\n",
              "      <td>34.8</td>\n",
              "      <td>No</td>\n",
              "      <td>NaN</td>\n",
              "    </tr>\n",
              "    <tr>\n",
              "      <th>...</th>\n",
              "      <td>...</td>\n",
              "      <td>...</td>\n",
              "      <td>...</td>\n",
              "      <td>...</td>\n",
              "      <td>...</td>\n",
              "      <td>...</td>\n",
              "      <td>...</td>\n",
              "      <td>...</td>\n",
              "      <td>...</td>\n",
              "      <td>...</td>\n",
              "      <td>...</td>\n",
              "    </tr>\n",
              "    <tr>\n",
              "      <th>200</th>\n",
              "      <td>Monday</td>\n",
              "      <td>GSK</td>\n",
              "      <td>54.52</td>\n",
              "      <td>125.6</td>\n",
              "      <td>49.9</td>\n",
              "      <td>82.4</td>\n",
              "      <td>7.89</td>\n",
              "      <td>65.5</td>\n",
              "      <td>39.7</td>\n",
              "      <td>No</td>\n",
              "      <td>NaN</td>\n",
              "    </tr>\n",
              "    <tr>\n",
              "      <th>201</th>\n",
              "      <td>Thursday</td>\n",
              "      <td>GSK</td>\n",
              "      <td>50.90</td>\n",
              "      <td>123.7</td>\n",
              "      <td>76.2</td>\n",
              "      <td>95.1</td>\n",
              "      <td>7.89</td>\n",
              "      <td>40.1</td>\n",
              "      <td>32.1</td>\n",
              "      <td>Yes</td>\n",
              "      <td>NaN</td>\n",
              "    </tr>\n",
              "    <tr>\n",
              "      <th>202</th>\n",
              "      <td>Wednesday</td>\n",
              "      <td>Home</td>\n",
              "      <td>51.96</td>\n",
              "      <td>132.6</td>\n",
              "      <td>57.5</td>\n",
              "      <td>76.7</td>\n",
              "      <td>NaN</td>\n",
              "      <td>54.2</td>\n",
              "      <td>40.6</td>\n",
              "      <td>Yes</td>\n",
              "      <td>NaN</td>\n",
              "    </tr>\n",
              "    <tr>\n",
              "      <th>203</th>\n",
              "      <td>Tuesday</td>\n",
              "      <td>Home</td>\n",
              "      <td>53.28</td>\n",
              "      <td>125.8</td>\n",
              "      <td>61.6</td>\n",
              "      <td>87.6</td>\n",
              "      <td>NaN</td>\n",
              "      <td>51.9</td>\n",
              "      <td>36.5</td>\n",
              "      <td>Yes</td>\n",
              "      <td>NaN</td>\n",
              "    </tr>\n",
              "    <tr>\n",
              "      <th>204</th>\n",
              "      <td>Monday</td>\n",
              "      <td>Home</td>\n",
              "      <td>51.73</td>\n",
              "      <td>125.0</td>\n",
              "      <td>62.8</td>\n",
              "      <td>92.5</td>\n",
              "      <td>NaN</td>\n",
              "      <td>49.5</td>\n",
              "      <td>33.6</td>\n",
              "      <td>Yes</td>\n",
              "      <td>NaN</td>\n",
              "    </tr>\n",
              "  </tbody>\n",
              "</table>\n",
              "<p>203 rows × 11 columns</p>\n",
              "</div>"
            ],
            "text/plain": [
              "     DayOfWeek GoingTo  Distance  MaxSpeed  AvgSpeed  AvgMovingSpeed  \\\n",
              "0       Friday    Home     51.29     127.4      78.3            84.8   \n",
              "1       Friday     GSK     51.63     130.3      81.8            88.9   \n",
              "2    Wednesday    Home     51.27     127.4      82.0            85.8   \n",
              "3    Wednesday     GSK     49.17     132.3      74.2            82.9   \n",
              "4      Tuesday    Home     51.15     136.2      83.4            88.1   \n",
              "..         ...     ...       ...       ...       ...             ...   \n",
              "200     Monday     GSK     54.52     125.6      49.9            82.4   \n",
              "201   Thursday     GSK     50.90     123.7      76.2            95.1   \n",
              "202  Wednesday    Home     51.96     132.6      57.5            76.7   \n",
              "203    Tuesday    Home     53.28     125.8      61.6            87.6   \n",
              "204     Monday    Home     51.73     125.0      62.8            92.5   \n",
              "\n",
              "    FuelEconomy  TotalTime  MovingTime Take407All Comments  \n",
              "0           NaN       39.3        36.3         No      NaN  \n",
              "1           NaN       37.9        34.9         No      NaN  \n",
              "2           NaN       37.5        35.9         No      NaN  \n",
              "3           NaN       39.8        35.6         No      NaN  \n",
              "4           NaN       36.8        34.8         No      NaN  \n",
              "..          ...        ...         ...        ...      ...  \n",
              "200        7.89       65.5        39.7         No      NaN  \n",
              "201        7.89       40.1        32.1        Yes      NaN  \n",
              "202         NaN       54.2        40.6        Yes      NaN  \n",
              "203         NaN       51.9        36.5        Yes      NaN  \n",
              "204         NaN       49.5        33.6        Yes      NaN  \n",
              "\n",
              "[203 rows x 11 columns]"
            ]
          },
          "execution_count": 5,
          "metadata": {},
          "output_type": "execute_result"
        }
      ],
      "source": [
        "df.drop(['Date', 'StartTime'], axis =1)"
      ]
    },
    {
      "cell_type": "code",
      "execution_count": 6,
      "metadata": {
        "colab": {
          "base_uri": "https://localhost:8080/"
        },
        "id": "q_i990G2Gkyv",
        "outputId": "37b686c7-7275-4e79-85db-41ba1e922db2"
      },
      "outputs": [
        {
          "data": {
            "text/plain": [
              "Date              0.000000\n",
              "StartTime         0.000000\n",
              "DayOfWeek         0.000000\n",
              "GoingTo           0.000000\n",
              "Distance          0.000000\n",
              "MaxSpeed          0.000000\n",
              "AvgSpeed          0.000000\n",
              "AvgMovingSpeed    0.000000\n",
              "FuelEconomy       0.083744\n",
              "TotalTime         0.000000\n",
              "MovingTime        0.000000\n",
              "Take407All        0.000000\n",
              "Comments          0.881773\n",
              "dtype: float64"
            ]
          },
          "execution_count": 6,
          "metadata": {},
          "output_type": "execute_result"
        }
      ],
      "source": [
        "df.isnull().mean()\n",
        "# gives percentage of null values in particular column"
      ]
    },
    {
      "cell_type": "markdown",
      "metadata": {
        "id": "h1uZloaFXO90"
      },
      "source": [
        "# deletion of rows with missing data\n"
      ]
    },
    {
      "cell_type": "code",
      "execution_count": 7,
      "metadata": {
        "colab": {
          "base_uri": "https://localhost:8080/"
        },
        "id": "Hm0UpSojRbOX",
        "outputId": "a726cd64-71e0-4448-f005-3e68f466e714"
      },
      "outputs": [
        {
          "name": "stdout",
          "output_type": "stream",
          "text": [
            "(23, 13)\n",
            "(203, 13)\n"
          ]
        }
      ],
      "source": [
        "remove_na_rows = df.dropna(axis = 0)\n",
        "print(remove_na_rows.shape)\n",
        "print(df.shape)"
      ]
    },
    {
      "cell_type": "markdown",
      "metadata": {
        "id": "aLHDHTWfXTcc"
      },
      "source": [
        "# Mean/Median imputation\n"
      ]
    },
    {
      "cell_type": "code",
      "execution_count": 8,
      "metadata": {
        "colab": {
          "base_uri": "https://localhost:8080/"
        },
        "id": "clrkM4_PRztW",
        "outputId": "180750b7-3a82-4618-e87d-d419ae556083"
      },
      "outputs": [
        {
          "name": "stdout",
          "output_type": "stream",
          "text": [
            "[8.6905914]\n",
            "[8.6905914]\n",
            "[8.6905914]\n",
            "[8.6905914]\n",
            "[8.6905914]\n",
            "[8.6905914]\n",
            "[8.89]\n",
            "[8.89]\n",
            "[8.89]\n",
            "[8.89]\n"
          ]
        }
      ],
      "source": [
        "from sklearn.impute import SimpleImputer\n",
        "imputer = SimpleImputer(strategy='mean', missing_values=np.nan)\n",
        "imputer = imputer.fit(df[['FuelEconomy']])\n",
        "data = imputer.transform(df[['FuelEconomy']])\n",
        "for i in range(0, 10):\n",
        "  print(data[i])"
      ]
    },
    {
      "cell_type": "code",
      "execution_count": 9,
      "metadata": {
        "colab": {
          "base_uri": "https://localhost:8080/"
        },
        "id": "nGUu8Y3_TUON",
        "outputId": "d20c726e-4d52-488d-913a-0a2fdd6f5727"
      },
      "outputs": [
        {
          "name": "stdout",
          "output_type": "stream",
          "text": [
            "0      8.52\n",
            "1      8.52\n",
            "2      8.52\n",
            "3      8.52\n",
            "4      8.52\n",
            "       ... \n",
            "200    7.89\n",
            "201    7.89\n",
            "202    8.52\n",
            "203    8.52\n",
            "204    8.52\n",
            "Name: FuelEconomy, Length: 203, dtype: object\n"
          ]
        }
      ],
      "source": [
        "median_fuelEconomy = df['FuelEconomy'].median()\n",
        "print(df['FuelEconomy'].fillna(median_fuelEconomy))"
      ]
    },
    {
      "cell_type": "code",
      "execution_count": 10,
      "metadata": {
        "colab": {
          "base_uri": "https://localhost:8080/"
        },
        "id": "5T2526sXTcj9",
        "outputId": "2a9629ca-a11d-48c2-94a7-664a25035b99"
      },
      "outputs": [
        {
          "data": {
            "text/plain": [
              "['DayOfWeek', 'GoingTo', 'Take407All']"
            ]
          },
          "execution_count": 10,
          "metadata": {},
          "output_type": "execute_result"
        }
      ],
      "source": [
        "# Mode imputation, Arbitrary value imputation\n",
        "\n",
        "# list comprehension to get all categorical variables\n",
        "cat_variables = [ var for var in df.columns if len(df[var].unique()) < 10]\n",
        "cat_variables"
      ]
    },
    {
      "cell_type": "markdown",
      "metadata": {
        "id": "oW94LF9lXcrl"
      },
      "source": [
        "# Mode imputation / frequent category Imputation\n"
      ]
    },
    {
      "cell_type": "code",
      "execution_count": 11,
      "metadata": {
        "colab": {
          "base_uri": "https://localhost:8080/"
        },
        "id": "T4msdIxwUPJ9",
        "outputId": "3f703f7d-6349-4095-f92c-221833c72df8"
      },
      "outputs": [
        {
          "name": "stdout",
          "output_type": "stream",
          "text": [
            "0      Backed up at Bronte\n",
            "1      Backed up at Bronte\n",
            "2      Backed up at Bronte\n",
            "3      Backed up at Bronte\n",
            "4      Backed up at Bronte\n",
            "              ...         \n",
            "200    Backed up at Bronte\n",
            "201    Backed up at Bronte\n",
            "202    Backed up at Bronte\n",
            "203    Backed up at Bronte\n",
            "204    Backed up at Bronte\n",
            "Name: Comments, Length: 203, dtype: object\n"
          ]
        }
      ],
      "source": [
        "mode_comments = df['Comments'].mode()\n",
        "print(df['Comments'].fillna(mode_comments[0]))"
      ]
    },
    {
      "cell_type": "markdown",
      "metadata": {
        "id": "WJ6UGMRqXmP1"
      },
      "source": [
        "# Arbitrary value imputation from values in column\n"
      ]
    },
    {
      "cell_type": "code",
      "execution_count": 12,
      "metadata": {
        "colab": {
          "base_uri": "https://localhost:8080/"
        },
        "id": "59jC_9jDV2a0",
        "outputId": "570f963d-5074-403e-f47f-ca8547439792"
      },
      "outputs": [
        {
          "name": "stdout",
          "output_type": "stream",
          "text": [
            "0      Rain, rain, rain\n",
            "1      Rain, rain, rain\n",
            "2      Rain, rain, rain\n",
            "3      Rain, rain, rain\n",
            "4      Rain, rain, rain\n",
            "             ...       \n",
            "200    Rain, rain, rain\n",
            "201    Rain, rain, rain\n",
            "202    Rain, rain, rain\n",
            "203    Rain, rain, rain\n",
            "204    Rain, rain, rain\n",
            "Name: Comments, Length: 203, dtype: object\n"
          ]
        }
      ],
      "source": [
        "print(df['Comments'].fillna('Rain, rain, rain'))"
      ]
    },
    {
      "cell_type": "markdown",
      "metadata": {
        "id": "HHqS8arrX4yc"
      },
      "source": [
        "# Random Sample Imputation / Add a new Cateogory as missing"
      ]
    },
    {
      "cell_type": "code",
      "execution_count": 13,
      "metadata": {
        "colab": {
          "base_uri": "https://localhost:8080/"
        },
        "id": "JdDDR955YXdF",
        "outputId": "fa11ca39-7f2e-44e2-b698-4658eb48d99d"
      },
      "outputs": [
        {
          "name": "stdout",
          "output_type": "stream",
          "text": [
            "0      Missing\n",
            "1      Missing\n",
            "2      Missing\n",
            "3      Missing\n",
            "4      Missing\n",
            "        ...   \n",
            "200    Missing\n",
            "201    Missing\n",
            "202    Missing\n",
            "203    Missing\n",
            "204    Missing\n",
            "Name: Comments, Length: 203, dtype: object\n"
          ]
        }
      ],
      "source": [
        "print(df['Comments'].fillna('Missing'))"
      ]
    },
    {
      "cell_type": "code",
      "execution_count": 14,
      "metadata": {
        "colab": {
          "base_uri": "https://localhost:8080/"
        },
        "id": "GtUX8tEjJH9_",
        "outputId": "326e4d8b-9918-452c-f6cb-d9d330a50468"
      },
      "outputs": [
        {
          "data": {
            "text/plain": [
              "['FuelEconomy', 'Comments']"
            ]
          },
          "execution_count": 14,
          "metadata": {},
          "output_type": "execute_result"
        }
      ],
      "source": [
        "# fuelEconomy is numerical column\n",
        "# df['FuelEconomy']\n",
        "#compute the mean of Boolean mask (True evaluates as 1 and False as 0)\n",
        "na_variables = [ var for var in df.columns if df[var].isnull().mean() > 0 ]\n",
        "na_variables"
      ]
    },
    {
      "cell_type": "code",
      "execution_count": 15,
      "metadata": {
        "colab": {
          "base_uri": "https://localhost:8080/"
        },
        "id": "AQ9DbX0JNkfI",
        "outputId": "5799a431-6b57-47e2-8a42-35bbf1091039"
      },
      "outputs": [
        {
          "data": {
            "text/plain": [
              "['Date',\n",
              " 'StartTime',\n",
              " 'Distance',\n",
              " 'MaxSpeed',\n",
              " 'AvgSpeed',\n",
              " 'AvgMovingSpeed',\n",
              " 'FuelEconomy',\n",
              " 'TotalTime',\n",
              " 'MovingTime',\n",
              " 'Comments']"
            ]
          },
          "execution_count": 15,
          "metadata": {},
          "output_type": "execute_result"
        }
      ],
      "source": [
        "# list comprehension to get all numerical variables\n",
        "num_variables = [ var for var in df.columns if len(df[var].unique()) > 10]\n",
        "num_variables"
      ]
    },
    {
      "cell_type": "code",
      "execution_count": 16,
      "metadata": {
        "id": "0VVZoaYxOGMo"
      },
      "outputs": [],
      "source": [
        "from sklearn.linear_model import LinearRegression"
      ]
    },
    {
      "cell_type": "code",
      "execution_count": 26,
      "metadata": {
        "colab": {
          "base_uri": "https://localhost:8080/"
        },
        "id": "as487IGbnDGG",
        "outputId": "1e132da3-1b49-4d65-cb4d-a323833407ea"
      },
      "outputs": [
        {
          "name": "stdout",
          "output_type": "stream",
          "text": [
            "-0.015982207387785552\n"
          ]
        },
        {
          "data": {
            "text/html": [
              "<div>\n",
              "<style scoped>\n",
              "    .dataframe tbody tr th:only-of-type {\n",
              "        vertical-align: middle;\n",
              "    }\n",
              "\n",
              "    .dataframe tbody tr th {\n",
              "        vertical-align: top;\n",
              "    }\n",
              "\n",
              "    .dataframe thead th {\n",
              "        text-align: right;\n",
              "    }\n",
              "</style>\n",
              "<table border=\"1\" class=\"dataframe\">\n",
              "  <thead>\n",
              "    <tr style=\"text-align: right;\">\n",
              "      <th></th>\n",
              "      <th>Date</th>\n",
              "      <th>StartTime</th>\n",
              "      <th>DayOfWeek</th>\n",
              "      <th>GoingTo</th>\n",
              "      <th>Distance</th>\n",
              "      <th>MaxSpeed</th>\n",
              "      <th>AvgSpeed</th>\n",
              "      <th>AvgMovingSpeed</th>\n",
              "      <th>FuelEconomy</th>\n",
              "      <th>TotalTime</th>\n",
              "      <th>MovingTime</th>\n",
              "      <th>Take407All</th>\n",
              "      <th>Comments</th>\n",
              "    </tr>\n",
              "  </thead>\n",
              "  <tbody>\n",
              "    <tr>\n",
              "      <th>0</th>\n",
              "      <td>1/6/2012</td>\n",
              "      <td>16:37</td>\n",
              "      <td>Friday</td>\n",
              "      <td>Home</td>\n",
              "      <td>51.29</td>\n",
              "      <td>127.4</td>\n",
              "      <td>78.3</td>\n",
              "      <td>84.8</td>\n",
              "      <td>NaN</td>\n",
              "      <td>39.3</td>\n",
              "      <td>36.3</td>\n",
              "      <td>No</td>\n",
              "      <td>NaN</td>\n",
              "    </tr>\n",
              "    <tr>\n",
              "      <th>1</th>\n",
              "      <td>1/6/2012</td>\n",
              "      <td>08:20</td>\n",
              "      <td>Friday</td>\n",
              "      <td>GSK</td>\n",
              "      <td>51.63</td>\n",
              "      <td>130.3</td>\n",
              "      <td>81.8</td>\n",
              "      <td>88.9</td>\n",
              "      <td>NaN</td>\n",
              "      <td>37.9</td>\n",
              "      <td>34.9</td>\n",
              "      <td>No</td>\n",
              "      <td>NaN</td>\n",
              "    </tr>\n",
              "    <tr>\n",
              "      <th>2</th>\n",
              "      <td>1/4/2012</td>\n",
              "      <td>16:17</td>\n",
              "      <td>Wednesday</td>\n",
              "      <td>Home</td>\n",
              "      <td>51.27</td>\n",
              "      <td>127.4</td>\n",
              "      <td>82.0</td>\n",
              "      <td>85.8</td>\n",
              "      <td>NaN</td>\n",
              "      <td>37.5</td>\n",
              "      <td>35.9</td>\n",
              "      <td>No</td>\n",
              "      <td>NaN</td>\n",
              "    </tr>\n",
              "    <tr>\n",
              "      <th>3</th>\n",
              "      <td>1/4/2012</td>\n",
              "      <td>07:53</td>\n",
              "      <td>Wednesday</td>\n",
              "      <td>GSK</td>\n",
              "      <td>49.17</td>\n",
              "      <td>132.3</td>\n",
              "      <td>74.2</td>\n",
              "      <td>82.9</td>\n",
              "      <td>NaN</td>\n",
              "      <td>39.8</td>\n",
              "      <td>35.6</td>\n",
              "      <td>No</td>\n",
              "      <td>NaN</td>\n",
              "    </tr>\n",
              "    <tr>\n",
              "      <th>4</th>\n",
              "      <td>1/3/2012</td>\n",
              "      <td>18:57</td>\n",
              "      <td>Tuesday</td>\n",
              "      <td>Home</td>\n",
              "      <td>51.15</td>\n",
              "      <td>136.2</td>\n",
              "      <td>83.4</td>\n",
              "      <td>88.1</td>\n",
              "      <td>NaN</td>\n",
              "      <td>36.8</td>\n",
              "      <td>34.8</td>\n",
              "      <td>No</td>\n",
              "      <td>NaN</td>\n",
              "    </tr>\n",
              "  </tbody>\n",
              "</table>\n",
              "</div>"
            ],
            "text/plain": [
              "       Date StartTime  DayOfWeek GoingTo  Distance  MaxSpeed  AvgSpeed  \\\n",
              "0  1/6/2012     16:37     Friday    Home     51.29     127.4      78.3   \n",
              "1  1/6/2012     08:20     Friday     GSK     51.63     130.3      81.8   \n",
              "2  1/4/2012     16:17  Wednesday    Home     51.27     127.4      82.0   \n",
              "3  1/4/2012     07:53  Wednesday     GSK     49.17     132.3      74.2   \n",
              "4  1/3/2012     18:57    Tuesday    Home     51.15     136.2      83.4   \n",
              "\n",
              "   AvgMovingSpeed FuelEconomy  TotalTime  MovingTime Take407All Comments  \n",
              "0            84.8         NaN       39.3        36.3         No      NaN  \n",
              "1            88.9         NaN       37.9        34.9         No      NaN  \n",
              "2            85.8         NaN       37.5        35.9         No      NaN  \n",
              "3            82.9         NaN       39.8        35.6         No      NaN  \n",
              "4            88.1         NaN       36.8        34.8         No      NaN  "
            ]
          },
          "execution_count": 26,
          "metadata": {},
          "output_type": "execute_result"
        }
      ],
      "source": [
        "linear_regressor = LinearRegression()  \n",
        "X = np.array(df['Distance']).reshape(-1, 1)\n",
        "y = np.array(df['TotalTime']).reshape(-1, 1)\n",
        "\n",
        "from sklearn.model_selection import train_test_split\n",
        "X_train, X_test, y_train, y_test = train_test_split(X, y, test_size = 0.25)\n",
        "  \n",
        "# Splitting the data into training and testing data\n",
        "regr = LinearRegression()\n",
        "  \n",
        "regr.fit(X_train, y_train)\n",
        "print(regr.score(X_test, y_test))\n",
        "df.head(5)\n"
      ]
    },
    {
      "cell_type": "code",
      "execution_count": 18,
      "metadata": {
        "colab": {
          "base_uri": "https://localhost:8080/",
          "height": 430
        },
        "id": "o9mI77mmpmFh",
        "outputId": "ad032c0f-6998-4177-9623-9625567d6ee5"
      },
      "outputs": [
        {
          "data": {
            "image/png": "[encoded data removed]",
            "text/plain": [
              "<Figure size 640x480 with 1 Axes>"
            ]
          },
          "metadata": {},
          "output_type": "display_data"
        }
      ],
      "source": [
        "y_pred = regr.predict(X_test)\n",
        "plt.scatter(X_test, y_test, color ='b')\n",
        "plt.plot(X_test, y_pred, color ='k')\n",
        "  \n",
        "plt.show()"
      ]
    },
    {
      "cell_type": "code",
      "execution_count": 28,
      "metadata": {
        "colab": {
          "base_uri": "https://localhost:8080/",
          "height": 452
        },
        "id": "Csj36ZoGQkKp",
        "outputId": "cfbbd4d8-c85c-422b-8c33-25c84737389b"
      },
      "outputs": [
        {
          "data": {
            "image/png": "[encoded data removed]",
            "text/plain": [
              "<Figure size 640x480 with 1 Axes>"
            ]
          },
          "metadata": {},
          "output_type": "display_data"
        }
      ],
      "source": [
        "df['AvgSpeed'].plot.density(color='green')\n",
        "plt.title('Density plot for Speeding')\n",
        "plt.show()"
      ]
    },
    {
      "cell_type": "code",
      "execution_count": null,
      "metadata": {
        "id": "on_5WoqVRCPb"
      },
      "outputs": [],
      "source": []
    }
  ],
  "metadata": {
    "colab": {
      "provenance": []
    },
    "kernelspec": {
      "display_name": "Python 3",
      "name": "python3"
    },
    "language_info": {
      "codemirror_mode": {
        "name": "ipython",
        "version": 3
      },
      "file_extension": ".py",
      "mimetype": "text/x-python",
      "name": "python",
      "nbconvert_exporter": "python",
      "pygments_lexer": "ipython3",
      "version": "3.10.6"
    }
  },
  "nbformat": 4,
  "nbformat_minor": 0
}
